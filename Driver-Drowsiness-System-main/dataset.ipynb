{
 "cells": [
  {
   "cell_type": "code",
   "execution_count": 1,
   "id": "3f112086",
   "metadata": {},
   "outputs": [],
   "source": [
    "import os\n",
    "import shutil\n",
    "import glob\n",
    "import random\n",
    "from tqdm import tqdm"
   ]
  },
  {
   "cell_type": "code",
   "execution_count": 4,
   "id": "830480e7",
   "metadata": {},
   "outputs": [
    {
     "name": "stderr",
     "output_type": "stream",
     "text": [
      "0it [00:00, ?it/s]\n",
      "0it [00:00, ?it/s]\n",
      "100%|█████████████████████████████████████████████████████████████████████████████| 3242/3242 [00:03<00:00, 832.48it/s]\n",
      "100%|█████████████████████████████████████████████████████████████████████████████| 1114/1114 [00:01<00:00, 809.99it/s]\n",
      "100%|███████████████████████████████████████████████████████████████████████████████| 679/679 [00:00<00:00, 816.62it/s]\n",
      "100%|█████████████████████████████████████████████████████████████████████████████| 1069/1069 [00:01<00:00, 833.23it/s]\n",
      "100%|███████████████████████████████████████████████████████████████████████████████| 736/736 [00:00<00:00, 802.77it/s]\n",
      "100%|█████████████████████████████████████████████████████████████████████████████| 1012/1012 [00:01<00:00, 811.52it/s]\n",
      "100%|███████████████████████████████████████████████████████████████████████████████| 624/624 [00:00<00:00, 851.25it/s]\n",
      "100%|███████████████████████████████████████████████████████████████████████████████| 832/832 [00:01<00:00, 775.16it/s]\n",
      "100%|███████████████████████████████████████████████████████████████████████████████| 387/387 [00:00<00:00, 729.59it/s]\n",
      "100%|███████████████████████████████████████████████████████████████████████████████| 399/399 [00:00<00:00, 875.47it/s]\n",
      "100%|█████████████████████████████████████████████████████████████████████████████| 1648/1648 [00:02<00:00, 809.55it/s]\n",
      "100%|█████████████████████████████████████████████████████████████████████████████| 8728/8728 [00:10<00:00, 795.35it/s]\n",
      "100%|█████████████████████████████████████████████████████████████████████████████| 3605/3605 [00:04<00:00, 850.72it/s]\n",
      "100%|█████████████████████████████████████████████████████████████████████████████| 8884/8884 [00:10<00:00, 826.38it/s]\n",
      "100%|█████████████████████████████████████████████████████████████████████████████| 1132/1132 [00:01<00:00, 803.63it/s]\n",
      "100%|█████████████████████████████████████████████████████████████████████████████| 1889/1889 [00:02<00:00, 759.50it/s]\n",
      "100%|█████████████████████████████████████████████████████████████████████████████| 1648/1648 [00:01<00:00, 867.26it/s]\n",
      "100%|█████████████████████████████████████████████████████████████████████████████| 4410/4410 [00:05<00:00, 806.53it/s]\n",
      "100%|█████████████████████████████████████████████████████████████████████████████| 6175/6175 [00:07<00:00, 837.60it/s]\n",
      "100%|███████████████████████████████████████████████████████████████████████████████| 704/704 [00:00<00:00, 866.00it/s]\n",
      "100%|███████████████████████████████████████████████████████████████████████████████| 987/987 [00:01<00:00, 837.35it/s]\n",
      "100%|███████████████████████████████████████████████████████████████████████████████| 382/382 [00:00<00:00, 897.78it/s]\n",
      "100%|███████████████████████████████████████████████████████████████████████████████| 522/522 [00:00<00:00, 810.25it/s]\n",
      "100%|███████████████████████████████████████████████████████████████████████████████| 752/752 [00:01<00:00, 738.72it/s]\n",
      "100%|█████████████████████████████████████████████████████████████████████████████| 1502/1502 [00:01<00:00, 866.87it/s]\n",
      "100%|█████████████████████████████████████████████████████████████████████████████| 1246/1246 [00:01<00:00, 879.11it/s]\n",
      "100%|███████████████████████████████████████████████████████████████████████████████| 665/665 [00:00<00:00, 799.00it/s]\n",
      "100%|███████████████████████████████████████████████████████████████████████████████| 736/736 [00:00<00:00, 836.86it/s]\n",
      "100%|█████████████████████████████████████████████████████████████████████████████| 1393/1393 [00:01<00:00, 883.83it/s]\n",
      "100%|█████████████████████████████████████████████████████████████████████████████| 1384/1384 [00:01<00:00, 795.90it/s]\n",
      "100%|█████████████████████████████████████████████████████████████████████████████| 1738/1738 [00:02<00:00, 801.93it/s]\n",
      "100%|█████████████████████████████████████████████████████████████████████████████| 6162/6162 [00:07<00:00, 806.63it/s]\n",
      "100%|███████████████████████████████████████████████████████████████████████████████| 681/681 [00:00<00:00, 866.25it/s]\n",
      "100%|███████████████████████████████████████████████████████████████████████████████| 739/739 [00:00<00:00, 805.35it/s]\n",
      "100%|███████████████████████████████████████████████████████████████████████████████| 642/642 [00:00<00:00, 729.91it/s]\n",
      "100%|█████████████████████████████████████████████████████████████████████████████| 6193/6193 [00:07<00:00, 856.08it/s]\n",
      "100%|███████████████████████████████████████████████████████████████████████████| 10257/10257 [00:12<00:00, 826.25it/s]\n"
     ]
    }
   ],
   "source": [
    "Raw_DIR= r'C:\\Users\\adith\\OneDrive\\Desktop\\Ai & ML\\dsp driverdrowsiness\\mrlEyes_2018_01'\n",
    "for dirpath, dirname, filenames in os.walk(Raw_DIR):\n",
    "    for i in tqdm([f for f in filenames if f.endswith('.png')]):\n",
    "        if i.split('_')[4]=='0':\n",
    "            shutil.copy(src=dirpath+'/'+i, dst=r'C:\\Users\\adith\\OneDrive\\Desktop\\Ai & ML\\dsp driverdrowsiness\\dsp driverdrowsiness\\prepared-data\\close')\n",
    "        \n",
    "        elif i.split('_')[4]=='1':\n",
    "            shutil.copy(src=dirpath+'/'+i, dst=r'C:\\Users\\adith\\OneDrive\\Desktop\\Ai & ML\\dsp driverdrowsiness\\dsp driverdrowsiness\\prepared-data\\open')"
   ]
  },
  {
   "cell_type": "code",
   "execution_count": 5,
   "id": "a08ccc89",
   "metadata": {},
   "outputs": [],
   "source": [
    "def create_test_closed(source, destination, percent):\n",
    "    '''\n",
    "    divides closed eyes images into given percent and moves from\n",
    "    source to destination.\n",
    "    \n",
    "    Arguments:\n",
    "    source(path): path of source directory\n",
    "    destination(path): path of destination directory\n",
    "    percent(float): percent of data to be divided(range: 0 to 1)\n",
    "    '''\n",
    "    path, dirs, files_closed = next(os.walk(source))\n",
    "    file_count_closed = len(files_closed)\n",
    "    percentage = file_count_closed * percent\n",
    "    to_move = random.sample(glob.glob(source + \"/*.png\"), int(percentage))\n",
    "\n",
    "    for f in enumerate(to_move):\n",
    "        if not os.path.exists(destination):\n",
    "            os.makedirs(destination)\n",
    "        shutil.move(f[1], destination)\n",
    "    print(f'moved {int(percentage)} images to the destination successfully.')"
   ]
  },
  {
   "cell_type": "code",
   "execution_count": 6,
   "id": "ef086c74",
   "metadata": {},
   "outputs": [],
   "source": [
    "def create_test_open(source, destination, percent):\n",
    "    '''\n",
    "    divides open eyes images into given percent and moves from\n",
    "    source to destination.\n",
    "    \n",
    "    Arguments:\n",
    "    source(path): path of source directory\n",
    "    destination(path): path of destination directory\n",
    "    percent(float): percent of data to be divided(range: 0 to 1)\n",
    "    '''\n",
    "    path, dirs, files_open = next(os.walk(source))\n",
    "    file_count_open = len(files_open)\n",
    "    percentage = file_count_open * percent\n",
    "    to_move = random.sample(glob.glob(source + \"/*.png\"), int(percentage))\n",
    "\n",
    "    for f in enumerate(to_move):\n",
    "        if not os.path.exists(destination):\n",
    "            os.makedirs(destination)\n",
    "        shutil.move(f[1], destination)\n",
    "    print(f'moved {int(percentage)} images to the destination successfully.')"
   ]
  },
  {
   "cell_type": "code",
   "execution_count": 7,
   "id": "73f1a175",
   "metadata": {},
   "outputs": [
    {
     "name": "stdout",
     "output_type": "stream",
     "text": [
      "moved 8389 images to the destination successfully.\n"
     ]
    }
   ],
   "source": [
    "create_test_closed(r'C:\\Users\\adith\\OneDrive\\Desktop\\Ai & ML\\dsp driverdrowsiness\\dsp driverdrowsiness\\prepared-data\\close', \n",
    "                    r'C:\\Users\\adith\\OneDrive\\Desktop\\Ai & ML\\dsp driverdrowsiness\\dsp driverdrowsiness\\prepared-data\\test\\closeeyes', \n",
    "                    0.2) "
   ]
  },
  {
   "cell_type": "code",
   "execution_count": 8,
   "id": "860e22c6",
   "metadata": {},
   "outputs": [
    {
     "name": "stdout",
     "output_type": "stream",
     "text": [
      "moved 8590 images to the destination successfully.\n"
     ]
    }
   ],
   "source": [
    "create_test_open(r'C:\\Users\\adith\\OneDrive\\Desktop\\Ai & ML\\dsp driverdrowsiness\\dsp driverdrowsiness\\prepared-data\\open', \n",
    "                    r'C:\\Users\\adith\\OneDrive\\Desktop\\Ai & ML\\dsp driverdrowsiness\\dsp driverdrowsiness\\prepared-data\\test\\openeyes', \n",
    "                    0.2)"
   ]
  },
  {
   "cell_type": "code",
   "execution_count": 9,
   "id": "07126f61",
   "metadata": {},
   "outputs": [
    {
     "name": "stdout",
     "output_type": "stream",
     "text": [
      "moved 33557 images to the destination successfully.\n"
     ]
    }
   ],
   "source": [
    "create_test_closed(r'C:\\Users\\adith\\OneDrive\\Desktop\\Ai & ML\\dsp driverdrowsiness\\dsp driverdrowsiness\\prepared-data\\close', \n",
    "                    r'C:\\Users\\adith\\OneDrive\\Desktop\\Ai & ML\\dsp driverdrowsiness\\dsp driverdrowsiness\\prepared-data\\train\\closeeyes', \n",
    "                    1.0) "
   ]
  },
  {
   "cell_type": "code",
   "execution_count": 10,
   "id": "adc498a5",
   "metadata": {},
   "outputs": [
    {
     "name": "stdout",
     "output_type": "stream",
     "text": [
      "moved 34362 images to the destination successfully.\n"
     ]
    }
   ],
   "source": [
    "create_test_open(r'C:\\Users\\adith\\OneDrive\\Desktop\\Ai & ML\\dsp driverdrowsiness\\dsp driverdrowsiness\\prepared-data\\open', \n",
    "                    r'C:\\Users\\adith\\OneDrive\\Desktop\\Ai & ML\\dsp driverdrowsiness\\dsp driverdrowsiness\\prepared-data\\train\\openeyes', \n",
    "                    1.0)"
   ]
  },
  {
   "cell_type": "code",
   "execution_count": null,
   "id": "e7219e60",
   "metadata": {},
   "outputs": [],
   "source": []
  }
 ],
 "metadata": {
  "kernelspec": {
   "display_name": "Python 3 (ipykernel)",
   "language": "python",
   "name": "python3"
  },
  "language_info": {
   "codemirror_mode": {
    "name": "ipython",
    "version": 3
   },
   "file_extension": ".py",
   "mimetype": "text/x-python",
   "name": "python",
   "nbconvert_exporter": "python",
   "pygments_lexer": "ipython3",
   "version": "3.10.3"
  }
 },
 "nbformat": 4,
 "nbformat_minor": 5
}
